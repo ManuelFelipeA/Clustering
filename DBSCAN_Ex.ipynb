{
 "cells": [
  {
   "cell_type": "markdown",
   "id": "27771fba",
   "metadata": {},
   "source": [
    "# DBSCAN \n",
    "\n",
    "Hands on! Another notebook??? Yes. More toy data? Yes!. Can you guess why? In real life, many datasets are not linearly separable, neither have clear shapes. Datasets for DBSCAN are hard to find, but it usually works great for spacial data. "
   ]
  },
  {
   "cell_type": "code",
   "execution_count": 1,
   "id": "38ffca92",
   "metadata": {
    "vscode": {
     "languageId": "python"
    }
   },
   "outputs": [],
   "source": [
    "import pandas as pd\n",
    "import matplotlib.pyplot as plt\n",
    "from sklearn.cluster import DBSCAN\n",
    "from sklearn import metrics\n",
    "import numpy as np\n",
    "from sklearn.preprocessing import StandardScaler"
   ]
  },
  {
   "cell_type": "code",
   "execution_count": 2,
   "id": "d572bc03",
   "metadata": {
    "vscode": {
     "languageId": "python"
    }
   },
   "outputs": [],
   "source": [
    "df = pd.read_csv(\"0\",header=None,delim_whitespace=True)\n",
    "df2 = pd.read_csv(\"33\",header=None,delim_whitespace=True)\n",
    "df3 = pd.read_csv(\"91\",header=None,delim_whitespace=True)"
   ]
  },
  {
   "cell_type": "code",
   "execution_count": 3,
   "id": "3c9b7d9f",
   "metadata": {
    "vscode": {
     "languageId": "python"
    }
   },
   "outputs": [
    {
     "data": {
      "image/png": "[encoded data removed]",
      "text/plain": [
       "<Figure size 432x288 with 1 Axes>"
      ]
     },
     "metadata": {
      "needs_background": "light"
     },
     "output_type": "display_data"
    }
   ],
   "source": [
    "plt.scatter(df[0], df[1])\n",
    "plt.show()"
   ]
  },
  {
   "cell_type": "code",
   "execution_count": 4,
   "id": "93c9de43",
   "metadata": {
    "vscode": {
     "languageId": "python"
    }
   },
   "outputs": [
    {
     "data": {
      "image/png": "[encoded data removed]",
      "text/plain": [
       "<Figure size 432x288 with 1 Axes>"
      ]
     },
     "metadata": {
      "needs_background": "light"
     },
     "output_type": "display_data"
    }
   ],
   "source": [
    "plt.scatter(df2[0], df2[1])\n",
    "plt.show()"
   ]
  },
  {
   "cell_type": "code",
   "execution_count": 5,
   "id": "e89dc72b",
   "metadata": {
    "vscode": {
     "languageId": "python"
    }
   },
   "outputs": [
    {
     "data": {
      "image/png": "[encoded data removed]",
      "text/plain": [
       "<Figure size 432x288 with 1 Axes>"
      ]
     },
     "metadata": {
      "needs_background": "light"
     },
     "output_type": "display_data"
    }
   ],
   "source": [
    "plt.scatter(df3[0], df3[1])\n",
    "plt.show()"
   ]
  },
  {
   "cell_type": "code",
   "execution_count": 6,
   "id": "53b08be8",
   "metadata": {
    "vscode": {
     "languageId": "python"
    }
   },
   "outputs": [],
   "source": [
    "#Check the data, is there a need for any preprocessing?\n",
    "X = df.to_numpy()\n",
    "X2 = df2.to_numpy()\n",
    "X3 = df3.to_numpy()"
   ]
  },
  {
   "cell_type": "code",
   "execution_count": 43,
   "id": "c45057f1",
   "metadata": {
    "vscode": {
     "languageId": "python"
    }
   },
   "outputs": [],
   "source": [
    "# The challenge here is how to chose the two values for DBSCAN. Remember that it will find the number of clusters, \n",
    "# but we need to specify how many points should be in the neighbourhood of eps radius.\n",
    "clustering = DBSCAN(eps=80000, min_samples=10).fit(X)"
   ]
  },
  {
   "cell_type": "code",
   "execution_count": 44,
   "id": "e29a3c7d",
   "metadata": {
    "vscode": {
     "languageId": "python"
    }
   },
   "outputs": [],
   "source": [
    "#clustering2 = DBSCAN(eps=100000, min_samples=3).fit(X2)"
   ]
  },
  {
   "cell_type": "code",
   "execution_count": 45,
   "id": "89bc20d9",
   "metadata": {
    "vscode": {
     "languageId": "python"
    }
   },
   "outputs": [],
   "source": [
    "\n",
    "clustering3 = DBSCAN(eps=30000, min_samples=3).fit(X3)"
   ]
  },
  {
   "cell_type": "code",
   "execution_count": 46,
   "id": "64efe365",
   "metadata": {
    "vscode": {
     "languageId": "python"
    }
   },
   "outputs": [
    {
     "name": "stdout",
     "output_type": "stream",
     "text": [
      "Estimated number of clusters: 7\n",
      "Estimated number of noise points: 31\n",
      "Silhouette Coefficient: 0.550\n"
     ]
    }
   ],
   "source": [
    "labels = clustering.labels_\n",
    "\n",
    "# Number of clusters in labels, ignoring noise if present.\n",
    "n_clusters_ = len(set(labels)) - (1 if -1 in labels else 0)\n",
    "n_noise_ = list(labels).count(-1)\n",
    "\n",
    "print(\"Estimated number of clusters: %d\" % n_clusters_)\n",
    "print(\"Estimated number of noise points: %d\" % n_noise_)\n",
    "print(f\"Silhouette Coefficient: {metrics.silhouette_score(X, labels):.3f}\")\n"
   ]
  },
  {
   "cell_type": "code",
   "execution_count": 47,
   "id": "efc3a8a9",
   "metadata": {
    "vscode": {
     "languageId": "python"
    }
   },
   "outputs": [
    {
     "ename": "NameError",
     "evalue": "name 'clustering2' is not defined",
     "output_type": "error",
     "traceback": [
      "\u001b[0;31m---------------------------------------------------------------------------\u001b[0m",
      "\u001b[0;31mNameError\u001b[0m                                 Traceback (most recent call last)",
      "\u001b[1;32m/home/felipe/work/Clustering_2/DBSCAN_Ex.ipynb Celda 12\u001b[0m in \u001b[0;36m<cell line: 1>\u001b[0;34m()\u001b[0m\n\u001b[0;32m----> <a href='vscode-notebook-cell://wsl%2Bubuntu-20.04/home/felipe/work/Clustering_2/DBSCAN_Ex.ipynb#X14sdnNjb2RlLXJlbW90ZQ%3D%3D?line=0'>1</a>\u001b[0m labels2 \u001b[39m=\u001b[39m clustering2\u001b[39m.\u001b[39mlabels_\n\u001b[1;32m      <a href='vscode-notebook-cell://wsl%2Bubuntu-20.04/home/felipe/work/Clustering_2/DBSCAN_Ex.ipynb#X14sdnNjb2RlLXJlbW90ZQ%3D%3D?line=2'>3</a>\u001b[0m \u001b[39m# Number of clusters in labels, ignoring noise if present.\u001b[39;00m\n\u001b[1;32m      <a href='vscode-notebook-cell://wsl%2Bubuntu-20.04/home/felipe/work/Clustering_2/DBSCAN_Ex.ipynb#X14sdnNjb2RlLXJlbW90ZQ%3D%3D?line=3'>4</a>\u001b[0m n_clusters_2 \u001b[39m=\u001b[39m \u001b[39mlen\u001b[39m(\u001b[39mset\u001b[39m(labels2)) \u001b[39m-\u001b[39m (\u001b[39m1\u001b[39m \u001b[39mif\u001b[39;00m \u001b[39m-\u001b[39m\u001b[39m1\u001b[39m \u001b[39min\u001b[39;00m labels2 \u001b[39melse\u001b[39;00m \u001b[39m0\u001b[39m)\n",
      "\u001b[0;31mNameError\u001b[0m: name 'clustering2' is not defined"
     ]
    }
   ],
   "source": [
    "labels2 = clustering2.labels_\n",
    "\n",
    "# Number of clusters in labels, ignoring noise if present.\n",
    "n_clusters_2 = len(set(labels2)) - (1 if -1 in labels2 else 0)\n",
    "n_noise_2 = list(labels2).count(-1)\n",
    "\n",
    "print(\"Estimated number of clusters: %d\" % n_clusters_2)\n",
    "print(\"Estimated number of noise points: %d\" % n_noise_2)\n",
    "print(f\"Silhouette Coefficient: {metrics.silhouette_score(X2, labels2):.3f}\")\n"
   ]
  },
  {
   "cell_type": "code",
   "execution_count": 48,
   "id": "f58660ad",
   "metadata": {
    "vscode": {
     "languageId": "python"
    }
   },
   "outputs": [
    {
     "name": "stdout",
     "output_type": "stream",
     "text": [
      "Estimated number of clusters: 5\n",
      "Estimated number of noise points: 0\n",
      "Silhouette Coefficient: 0.831\n"
     ]
    }
   ],
   "source": [
    "labels3 = clustering3.labels_\n",
    "\n",
    "# Number of clusters in labels, ignoring noise if present.\n",
    "n_clusters_3 = len(set(labels3)) - (1 if -1 in labels3 else 0)\n",
    "n_noise_3 = list(labels3).count(-1)\n",
    "\n",
    "print(\"Estimated number of clusters: %d\" % n_clusters_3)\n",
    "print(\"Estimated number of noise points: %d\" % n_noise_3)\n",
    "print(f\"Silhouette Coefficient: {metrics.silhouette_score(X3, labels3):.3f}\")\n"
   ]
  },
  {
   "cell_type": "code",
   "execution_count": 49,
   "id": "86b90125",
   "metadata": {
    "vscode": {
     "languageId": "python"
    }
   },
   "outputs": [
    {
     "data": {
      "image/png": "[encoded data removed]",
      "text/plain": [
       "<Figure size 432x288 with 1 Axes>"
      ]
     },
     "metadata": {
      "needs_background": "light"
     },
     "output_type": "display_data"
    }
   ],
   "source": [
    "#Plot clusters\n",
    "unique_labels = set(labels)\n",
    "core_samples_mask = np.zeros_like(labels, dtype=bool)\n",
    "core_samples_mask[clustering.core_sample_indices_] = True\n",
    "\n",
    "colors = [plt.cm.Spectral(each) for each in np.linspace(0, 1, len(unique_labels))]\n",
    "for k, col in zip(unique_labels, colors):\n",
    "    if k == -1:\n",
    "        # Black used for noise.\n",
    "        col = [0, 0, 0, 1]\n",
    "\n",
    "    class_member_mask = labels == k\n",
    "\n",
    "    xy = X[class_member_mask & core_samples_mask]\n",
    "    plt.plot(\n",
    "        xy[:,0],\n",
    "        xy[:,1],\n",
    "        \"o\",\n",
    "        markerfacecolor=tuple(col),\n",
    "        markeredgecolor=\"k\",\n",
    "        markersize=10,\n",
    "    )\n",
    "\n",
    "    xy = X[class_member_mask & ~core_samples_mask]\n",
    "    plt.plot(\n",
    "        xy[:,0],\n",
    "        xy[:,1],\n",
    "        \"o\",\n",
    "        markerfacecolor=tuple(col),\n",
    "        markeredgecolor=\"k\",\n",
    "        markersize=6,\n",
    "    )\n",
    "\n",
    "plt.title(f\"Estimated number of clusters: {n_clusters_}\")\n",
    "plt.show()"
   ]
  },
  {
   "cell_type": "code",
   "execution_count": 36,
   "id": "65d5a1bd",
   "metadata": {
    "vscode": {
     "languageId": "python"
    }
   },
   "outputs": [
    {
     "ename": "NameError",
     "evalue": "name 'labels2' is not defined",
     "output_type": "error",
     "traceback": [
      "\u001b[0;31m---------------------------------------------------------------------------\u001b[0m",
      "\u001b[0;31mNameError\u001b[0m                                 Traceback (most recent call last)",
      "\u001b[1;32m/home/felipe/work/Clustering_2/DBSCAN_Ex.ipynb Celda 15\u001b[0m in \u001b[0;36m<cell line: 2>\u001b[0;34m()\u001b[0m\n\u001b[1;32m      <a href='vscode-notebook-cell://wsl%2Bubuntu-20.04/home/felipe/work/Clustering_2/DBSCAN_Ex.ipynb#X20sdnNjb2RlLXJlbW90ZQ%3D%3D?line=0'>1</a>\u001b[0m \u001b[39m#Plot clusters\u001b[39;00m\n\u001b[0;32m----> <a href='vscode-notebook-cell://wsl%2Bubuntu-20.04/home/felipe/work/Clustering_2/DBSCAN_Ex.ipynb#X20sdnNjb2RlLXJlbW90ZQ%3D%3D?line=1'>2</a>\u001b[0m unique_labels2 \u001b[39m=\u001b[39m \u001b[39mset\u001b[39m(labels2)\n\u001b[1;32m      <a href='vscode-notebook-cell://wsl%2Bubuntu-20.04/home/felipe/work/Clustering_2/DBSCAN_Ex.ipynb#X20sdnNjb2RlLXJlbW90ZQ%3D%3D?line=2'>3</a>\u001b[0m core_samples_mask2 \u001b[39m=\u001b[39m np\u001b[39m.\u001b[39mzeros_like(labels2, dtype\u001b[39m=\u001b[39m\u001b[39mbool\u001b[39m)\n\u001b[1;32m      <a href='vscode-notebook-cell://wsl%2Bubuntu-20.04/home/felipe/work/Clustering_2/DBSCAN_Ex.ipynb#X20sdnNjb2RlLXJlbW90ZQ%3D%3D?line=3'>4</a>\u001b[0m core_samples_mask2[clustering\u001b[39m.\u001b[39mcore_sample_indices_] \u001b[39m=\u001b[39m \u001b[39mTrue\u001b[39;00m\n",
      "\u001b[0;31mNameError\u001b[0m: name 'labels2' is not defined"
     ]
    }
   ],
   "source": [
    "#Plot clusters\n",
    "unique_labels2 = set(labels2)\n",
    "core_samples_mask2 = np.zeros_like(labels2, dtype=bool)\n",
    "core_samples_mask2[clustering.core_sample_indices_] = True\n",
    "\n",
    "colors = [plt.cm.Spectral(each) for each in np.linspace(0, 1, len(unique_labels2))]\n",
    "for k, col in zip(unique_labels2, colors):\n",
    "    if k == -1:\n",
    "        # Black used for noise.\n",
    "        col = [0, 0, 0, 1]\n",
    "\n",
    "    class_member_mask = labels2 == k\n",
    "\n",
    "    xy = X2[class_member_mask & core_samples_mask2]\n",
    "    plt.plot(\n",
    "        xy[:,0],\n",
    "        xy[:,1],\n",
    "        \"o\",\n",
    "        markerfacecolor=tuple(col),\n",
    "        markeredgecolor=\"k\",\n",
    "        markersize=10,\n",
    "    )\n",
    "\n",
    "    xy = X2[class_member_mask & ~core_samples_mask2]\n",
    "    plt.plot(\n",
    "        xy[:,0],\n",
    "        xy[:,1],\n",
    "        \"o\",\n",
    "        markerfacecolor=tuple(col),\n",
    "        markeredgecolor=\"k\",\n",
    "        markersize=6,\n",
    "    )\n",
    "\n",
    "plt.title(f\"Estimated number of clusters: {n_clusters_2}\")\n",
    "plt.show()"
   ]
  },
  {
   "cell_type": "code",
   "execution_count": 37,
   "id": "519f07ba",
   "metadata": {
    "vscode": {
     "languageId": "python"
    }
   },
   "outputs": [
    {
     "data": {
      "image/png": "[encoded data removed]",
      "text/plain": [
       "<Figure size 432x288 with 1 Axes>"
      ]
     },
     "metadata": {
      "needs_background": "light"
     },
     "output_type": "display_data"
    }
   ],
   "source": [
    "#Plot clusters\n",
    "unique_labels3 = set(labels3)\n",
    "core_samples_mask3 = np.zeros_like(labels3, dtype=bool)\n",
    "core_samples_mask3[clustering3.core_sample_indices_] = True\n",
    "\n",
    "colors = [plt.cm.Spectral(each) for each in np.linspace(0, 1, len(unique_labels3))]\n",
    "for k, col in zip(unique_labels3, colors):\n",
    "    if k == -1:\n",
    "        # Black used for noise.\n",
    "        col = [0, 0, 0, 1]\n",
    "\n",
    "    class_member_mask3 = labels3 == k\n",
    "\n",
    "    xy = X3[class_member_mask3 & core_samples_mask3]\n",
    "    plt.plot(\n",
    "        xy[:,0],\n",
    "        xy[:,1],\n",
    "        \"o\",\n",
    "        markerfacecolor=tuple(col),\n",
    "        markeredgecolor=\"k\",\n",
    "        markersize=10,\n",
    "    )\n",
    "\n",
    "    xy = X3[class_member_mask3 & ~core_samples_mask3]\n",
    "    plt.plot(\n",
    "        xy[:,0],\n",
    "        xy[:,1],\n",
    "        \"o\",\n",
    "        markerfacecolor=tuple(col),\n",
    "        markeredgecolor=\"k\",\n",
    "        markersize=6,\n",
    "    )\n",
    "\n",
    "plt.title(f\"Estimated number of clusters: {n_clusters_3}\")\n",
    "plt.show()"
   ]
  },
  {
   "cell_type": "markdown",
   "id": "2ad0877f",
   "metadata": {},
   "source": [
    "Nice! Now find the best $\\epsilon$ and min_samples for this dataset.  \n",
    "After that, repeat the process using the 91 and 33 files."
   ]
  },
  {
   "cell_type": "code",
   "execution_count": null,
   "id": "efbff5fd",
   "metadata": {
    "vscode": {
     "languageId": "python"
    }
   },
   "outputs": [],
   "source": []
  }
 ],
 "metadata": {
  "kernelspec": {
   "display_name": "kernel1",
   "language": "python",
   "name": "kernel1"
  }
 },
 "nbformat": 4,
 "nbformat_minor": 5
}
